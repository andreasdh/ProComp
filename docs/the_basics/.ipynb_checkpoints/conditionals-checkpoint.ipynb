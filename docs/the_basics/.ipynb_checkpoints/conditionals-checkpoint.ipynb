{
 "cells": [
  {
   "cell_type": "markdown",
   "metadata": {},
   "source": [
    "# Conditionals and logic\n",
    "\n",
    "Conditionals are central in programming, but also central in everyday life. Let's start simply with ticket prices on the bus. If the age is under 18, the price will be 3 dollars, and half the price of an adult ticket. We can describe this with the following pseudocode:\n",
    "\n",
    "```{code-block} text\n",
    "if age < 18:\n",
    "    price = 3\n",
    "else:\n",
    "    price = 62\n",
    "```\n",
    "\n",
    "In Python this program will look like this:\n",
    "\n",
    "```{code-block} Python\n",
    "if age < 18:\n",
    "    price = 3\n",
    "else:\n",
    "    price = 62\n",
    "```\n",
    "\n",
    "Now we are going to look at examples where conditionals can be used to illustrate concepts in your discipline. We are using simple examples here, but it can of course be applied to more complex problems. You can choose the tab with your discipline.\n",
    "\n",
    "\n",
    "```{tabbed} Mathematics\n",
    "A good way to work with logic and programming is to concentrate on how a problem can be solved, rather than emphasizing the syntax (that is, how we write the code).\n",
    "\n",
    "To structure a program code, you may want to use a flow chart. A flow chart provides both information about the mathematical premises and an overview of the structure of the program.\n",
    "\n",
    "An example is the following flow chart, which shows what possible outcomes we can have when solving a quadratic equation:\n",
    "\n",
    "ADD FLOWCHART HERE\n",
    "\n",
    "In Python, code belonging to a condition is indented. We can therefore say that each individual condition in the flow chart represents one indent.\n",
    "\n",
    "This logic in programs can be explored using _programming puzzles_.\n",
    "\n",
    "In a programming puzzle, all the lines of code are given as \"puzzle pieces\". The task is to sort these code parts in the correct order and with the correct structure. Such puzzles are also called \"Parsons problems\". The puzzles can be generated digitally from ![the following webpage](http://parsons.problemsolving.io/).\n",
    "\n",
    "First solve ![this puzzle about ticket prices](http://parsons.problemsolving.io/puzzle/980be2ba272446aebbb1a3eaeb1f1bea). Then use the flow chart above to solve ![this programming puzzle](http://parsons.problemsolving.io/puzzle/11a1f9881efa4f1796c7fe11efbaec3a). The program will find out how many solutions we have given the coefficients a, b and c in a quadratic equation.\n",
    "\n",
    "```\n",
    "\n",
    "```{tabbed} Physics\n",
    "L and G\n",
    "```\n",
    "\n",
    "```{tabbed} Life Science\n",
    "Hardy-Weinberg\n",
    "```\n",
    "\n",
    "```{tabbed} Chemistry\n",
    "pH\n",
    "```\n",
    "\n",
    "We can see that we use if-tests to program conditionals in Python. An example is this program which determines whether a number is odd or even:"
   ]
  },
  {
   "cell_type": "code",
   "execution_count": 1,
   "metadata": {},
   "outputs": [
    {
     "name": "stdout",
     "output_type": "stream",
     "text": [
      "The number is even\n"
     ]
    }
   ],
   "source": [
    "number = 18\n",
    "\n",
    "if number%2 == 0:\n",
    "    print(\"The number is even\")\n",
    "else:\n",
    "    print(\"The number is odd\")"
   ]
  },
  {
   "cell_type": "markdown",
   "metadata": {},
   "source": [
    "The operator \\% in the program above finds the remainder after an integer division of the variable _number_ divided by 2. If the remainder is zero, the number is an even number. Note that the executed code is indented under the different conditions. Also notice the double equals sign. It's easy to forget! \n",
    "\n",
    "When we assign a value to a variable, we use simple equal signs. When we are going to check if something is zero, however, we must use double equal signs.\n",
    "\n",
    "We can add more terms with the command _elif_, which means \"else if\". First the if statement is evaluated, then all the elif statements in turn. If none of these are true, another is performed. The first condition that is true ends the row with if-elif-else. The code word _else_ does not take any conditions and is executed if none of the above conditions are met."
   ]
  },
  {
   "cell_type": "code",
   "execution_count": 4,
   "metadata": {},
   "outputs": [
    {
     "name": "stdout",
     "output_type": "stream",
     "text": [
      "The number is zero\n"
     ]
    }
   ],
   "source": [
    "number = 0\n",
    "\n",
    "if number > 0:\n",
    "    print(\"The number is positive\")\n",
    "elif number < 0:\n",
    "    print(\"The number is negative\")\n",
    "else:\n",
    "    print(\"The number is zero\")"
   ]
  },
  {
   "cell_type": "markdown",
   "metadata": {},
   "source": [
    "Study the example above and explain how the syntax for conditionals is structured. Then create a program that checks if a given number exists in the interval [0, 10].\n",
    "\n",
    "<iframe src=\"https://trinket.io/embed/python3/9f5d5834b0?font=2em\" width=\"100%\" height=\"356\" allowfullscreen=\"allowfullscreen\"></iframe>\n",
    "\n",
    "```{admonition}\n",
    "class:: remember\n",
    "\n",
    "In most programming environments (also called editors) different structures and elements are colored. However, the colors may vary from environment to environment. The point of such syntax colors is to help you write correctly. Syntax means how we write different commands.\n",
    "```\n",
    "\n",
    "````{admonition} Solution\n",
    ":class: tip, dropdown\n",
    "Here are three ways of solving the above problem:\n",
    "\n",
    "```{code-block} text\n",
    "number = 7\n",
    "\n",
    "# Solution 1\n",
    "if 0 <= number <= 10:\n",
    "    print(\"The number is in the interval.\")\n",
    "else:\n",
    "    print(\"The number is not in the interval.\")\n",
    "\n",
    "# Solution 2\n",
    "if number >= 0 and number <= 10:\n",
    "    print(\"The number is in the interval.\")\n",
    "else:\n",
    "    print(\"The number is not in the interval.\")\n",
    "\n",
    "# Solution 3\n",
    "if number <= 10:\n",
    "    if number >= 0:\n",
    "        print(\"The number is in the interval.\")\n",
    "    else:\n",
    "        print(\"The number is not in the interval.\")\n",
    "else:\n",
    "    print(\"The number is not in the interval.\")\n",
    "```\n",
    "````"
   ]
  },
  {
   "cell_type": "markdown",
   "metadata": {},
   "source": [
    "```{admonition} Discussion\n",
    ":class: note\n",
    "- Flowcharts and programming puzzles are two different ways of working with programming and computational thinking. How can you use this in your teaching?\n",
    "- When students are to program conditionals they must think through different outcomes and structure this as a yes/no question. How does this train students in computational thinking and problem solving?\n",
    "```"
   ]
  }
 ],
 "metadata": {
  "kernelspec": {
   "display_name": "Python 3",
   "language": "python",
   "name": "python3"
  },
  "language_info": {
   "codemirror_mode": {
    "name": "ipython",
    "version": 3
   },
   "file_extension": ".py",
   "mimetype": "text/x-python",
   "name": "python",
   "nbconvert_exporter": "python",
   "pygments_lexer": "ipython3",
   "version": "3.8.5"
  }
 },
 "nbformat": 4,
 "nbformat_minor": 4
}
