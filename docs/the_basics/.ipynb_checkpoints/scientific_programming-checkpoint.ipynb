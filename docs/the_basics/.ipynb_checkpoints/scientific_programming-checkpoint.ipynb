{
 "cells": [
  {
   "cell_type": "markdown",
   "metadata": {},
   "source": [
    "# Why scientific programming?\n",
    "Scientific programming may...\n",
    "\n",
    "\n",
    "\n",
    "## Computational thinking\n",
    "```{epigraph}\n",
    "Everybody in this country should learn to program a computer, because it teaches you how to think.\n",
    "\n",
    "-- Steve Jobs\n",
    "```"
   ]
  }
 ],
 "metadata": {
  "kernelspec": {
   "display_name": "Python 3",
   "language": "python",
   "name": "python3"
  },
  "language_info": {
   "codemirror_mode": {
    "name": "ipython",
    "version": 3
   },
   "file_extension": ".py",
   "mimetype": "text/x-python",
   "name": "python",
   "nbconvert_exporter": "python",
   "pygments_lexer": "ipython3",
   "version": "3.8.5"
  }
 },
 "nbformat": 4,
 "nbformat_minor": 4
}
