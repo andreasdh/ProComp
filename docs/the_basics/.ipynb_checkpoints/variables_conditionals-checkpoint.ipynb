{
 "cells": [
  {
   "cell_type": "markdown",
   "metadata": {},
   "source": [
    "# Variables and conditionals\n",
    "\n",
    "```{admonition} Teaching goals\n",
    "In this part you will learn to\n",
    "1. use an editor to write and execute a Python program.\n",
    "2. use and understand variables and data types\n",
    "3. use arithmetic operators on different data types\n",
    "4. use and understand the structure of conditionals\n",
    "```\n",
    "\n",
    "In this part we will take a look at two of the most basic structures in programming: variables and conditionals. If you are familiar with these structures in Python, you can skip the theoretical part and go straight to the questions regarding teaching at the end of each page. Feel also free to skip the section below about what programming is and how to use an editor.\n",
    "\n",
    "## Programming with an editor\n",
    "In the video below we will show how to use an editor to write and execute Python code. You can download Python and an editor through the Anaconda distribution. Just ![download Anaconda](https://www.anaconda.com/products/individual), and you have everything you need for now. In all modules we have also included an interactive, built-in editor called _Trinket_, which you may use throughout the course."
   ]
  },
  {
   "cell_type": "code",
   "execution_count": 2,
   "metadata": {
    "tags": [
     "remove-input"
    ]
   },
   "outputs": [
    {
     "data": {
      "text/html": [
       "\n",
       "        <iframe\n",
       "            width=\"800\"\n",
       "            height=\"600\"\n",
       "            src=\"https://www.youtube.com/embed/kC55flATdWc? autoplay=0&rel=0\"\n",
       "            frameborder=\"0\"\n",
       "            allowfullscreen\n",
       "        ></iframe>\n",
       "        "
      ],
      "text/plain": [
       "<IPython.lib.display.IFrame at 0x20d6be3cbb0>"
      ]
     },
     "execution_count": 2,
     "metadata": {},
     "output_type": "execute_result"
    }
   ],
   "source": [
    "from IPython.display import IFrame\n",
    "IFrame(\"https://www.youtube.com/embed/kC55flATdWc? autoplay=0&rel=0\", width=800, height=600)\n",
    "\n",
    "# New wideo in english: Just Anaconda and printing (not variable assignments). Also, show how Trinkets are used."
   ]
  },
  {
   "cell_type": "markdown",
   "metadata": {},
   "source": [
    "```{admonition} Main points\n",
    ":class: tip\n",
    "Make sure you have the following under control\n",
    "- installing an editor\n",
    "- writing code in an editor\n",
    "- executing code in an editor\n",
    "\n",
    "Get to know the editor by trying out some options and exploring the different panels.\n",
    "```"
   ]
  }
 ],
 "metadata": {
  "celltoolbar": "Edit Metadata",
  "kernelspec": {
   "display_name": "Python 3",
   "language": "python",
   "name": "python3"
  },
  "language_info": {
   "codemirror_mode": {
    "name": "ipython",
    "version": 3
   },
   "file_extension": ".py",
   "mimetype": "text/x-python",
   "name": "python",
   "nbconvert_exporter": "python",
   "pygments_lexer": "ipython3",
   "version": "3.8.5"
  }
 },
 "nbformat": 4,
 "nbformat_minor": 4
}
