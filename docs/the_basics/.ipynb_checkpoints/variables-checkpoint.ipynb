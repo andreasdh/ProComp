{
 "cells": [
  {
   "cell_type": "markdown",
   "metadata": {},
   "source": [
    "# Variables and arithmetic\n",
    "## Variables\n",
    "Variables are well known in mathematics. When we write _a_ = 2, _a_ is the variable name and 2 is the assigned value. This is also the case in programming; a variable is a quantity that can store a value in a program. The variable can be changed throughout the program.\n",
    "\n",
    "Variables are especially useful when we need to use the same value multiple times, or when we need to update a value during the program. A simple example is if we want to find ten numbers in a certain series of numbers. We can describe this as follows with a pseudocode:"
   ]
  },
  {
   "cell_type": "markdown",
   "metadata": {},
   "source": [
    "```{code-block} text\n",
    "number = 0\n",
    "repeat 10 times:\n",
    "    number = number + 3\n",
    "    show number on screen\n",
    "```"
   ]
  },
  {
   "cell_type": "markdown",
   "metadata": {},
   "source": [
    "```{admonition} What is a pseudocode?\n",
    ":class: tip, dropdown\n",
    "A pseudocode is a description of an algorithm without using a specific programming language. Pseudocode can be written in many ways and can be described with words, pictures and symbols.\n",
    "```"
   ]
  },
  {
   "cell_type": "markdown",
   "metadata": {},
   "source": [
    "The algorithm above finds the first ten numbers in the order 3, 6, 9 ... and displays the numbers on the screen as they are calculated. To calculate a new numeric value, we need the previous value of the variable _number_. We can store the different values in a variable that we can update and change several times in the program.\n",
    "\n",
    "If we need to use a value in several places, variables are also an advantage. Below is an example of a program code in Python where we calculate the average speed in m/s for various bodies that have moved 3, 4.5, 7 and 14 meters respectively in 3 seconds."
   ]
  },
  {
   "cell_type": "code",
   "execution_count": 1,
   "metadata": {},
   "outputs": [],
   "source": [
    "t = 3\n",
    "\n",
    "v1 = 3/t\n",
    "v2 = 4.5/t\n",
    "v3 = 7/t\n",
    "v4 = 14/t"
   ]
  },
  {
   "cell_type": "markdown",
   "metadata": {},
   "source": [
    "If we want to calculate the velocity for other values of time, we just need to change the t above. Then t changes each time this variable is used, and we do not have to replace the value in each of the expressions. This is both time-saving and neat.\n",
    "\n",
    "There are several types of data we can store in variables. In the video below you can see more about different types of data and how we use them in programming."
   ]
  },
  {
   "cell_type": "code",
   "execution_count": 4,
   "metadata": {
    "tags": [
     "remove-input"
    ]
   },
   "outputs": [
    {
     "data": {
      "text/html": [
       "\n",
       "        <iframe\n",
       "            width=\"800\"\n",
       "            height=\"600\"\n",
       "            src=\"https://www.youtube.com/embed/RKws2FSSa28? autoplay=0&rel=0\"\n",
       "            frameborder=\"0\"\n",
       "            allowfullscreen\n",
       "        ></iframe>\n",
       "        "
      ],
      "text/plain": [
       "<IPython.lib.display.IFrame at 0x25106a7ce50>"
      ]
     },
     "execution_count": 4,
     "metadata": {},
     "output_type": "execute_result"
    }
   ],
   "source": [
    "from IPython.display import IFrame\n",
    "IFrame(\"https://www.youtube.com/embed/RKws2FSSa28? autoplay=0&rel=0\", width=800, height=600)\n",
    "\n",
    "# New wideo in english: About the same content"
   ]
  },
  {
   "cell_type": "markdown",
   "metadata": {},
   "source": [
    "## Arithmetics\n",
    "We can use Python as a calculator. Some of the operators we can use are $+$, $-$, $*$, $/$ and $**$ ($a**b$ = $a$ to the power of $b$). There are also two special operators: $//$ and \\%. Find out what these operators do by trying out the code box below. We have added four lines that you can use as a starting point.\n",
    "\n",
    "<iframe src=\"https://trinket.io/embed/python3/1cdda2d57c?font=2em\" width=\"100%\" height=\"356\" allowfullscreen=\"allowfullscreen\"></iframe>\n",
    "\n",
    "```{admonition} Solution\n",
    ":class: tip, dropdown\n",
    "// performs integer division, ie the operator finds the highest integer the division goes up in. 24 // 5 = 4 because 4 * 5 = 20, which is the closest we get 24 in 5 times without exceeding 24. The rest after this division is 4. We achieve this by using the «modulus operator»%, which has nothing to do with percentages. 24% 5 is thus 4.\n",
    "```"
   ]
  },
  {
   "cell_type": "markdown",
   "metadata": {},
   "source": [
    "```{admonition} Discussion\n",
    ":class: note\n",
    "- In the last excercise you tried to find out what the two operators did by trying and failing. How can programming facilitate the use of trying and failing in your teaching.\n",
    "- In programming we can write a = a + 1. How can this use of the equal sign stimulate to dicussion? How can it be a source to confusion?\n",
    "- Most of your students does probably have a good deal of experience with programming before they start at higher education. \n",
    "How will you map their competence to be able to do teaching at the appropriate level?\n",
    "```"
   ]
  }
 ],
 "metadata": {
  "celltoolbar": "Edit Metadata",
  "kernelspec": {
   "display_name": "Python 3",
   "language": "python",
   "name": "python3"
  },
  "language_info": {
   "codemirror_mode": {
    "name": "ipython",
    "version": 3
   },
   "file_extension": ".py",
   "mimetype": "text/x-python",
   "name": "python",
   "nbconvert_exporter": "python",
   "pygments_lexer": "ipython3",
   "version": "3.8.5"
  }
 },
 "nbformat": 4,
 "nbformat_minor": 4
}
