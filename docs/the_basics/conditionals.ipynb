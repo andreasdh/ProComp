{
 "cells": [
  {
   "cell_type": "markdown",
   "metadata": {},
   "source": [
    "# Conditionals\n",
    "\n",
    "Blabla\n",
    "\n",
    "```{tabbed} Mathematics\n",
    "Quadratic equation.\n",
    "```\n",
    "\n",
    "```{tabbed} Physics\n",
    "My second tab with `some code`!\n",
    "```\n",
    "\n",
    "```{tabbed} Life Science\n",
    "My second tab with `some code`!\n",
    "```\n",
    "\n",
    "```{tabbed} Chemistry\n",
    "My second tab with `some code`!\n",
    "```"
   ]
  }
 ],
 "metadata": {
  "kernelspec": {
   "display_name": "Python 3",
   "language": "python",
   "name": "python3"
  },
  "language_info": {
   "codemirror_mode": {
    "name": "ipython",
    "version": 3
   },
   "file_extension": ".py",
   "mimetype": "text/x-python",
   "name": "python",
   "nbconvert_exporter": "python",
   "pygments_lexer": "ipython3",
   "version": "3.8.5"
  }
 },
 "nbformat": 4,
 "nbformat_minor": 4
}
