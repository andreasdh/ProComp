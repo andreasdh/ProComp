{
 "cells": [
  {
   "cell_type": "markdown",
   "metadata": {},
   "source": [
    "# Loops and iterative thinking"
   ]
  },
  {
   "cell_type": "markdown",
   "metadata": {},
   "source": [
    "A loop is a programming structure that repeats a code, either a certain number of times or until a criterion is reached.\n",
    "\n",
    "Loops allow us to take advantage of the computer's ability to quickly perform operations multiple times. Using loops, for example, the computer can find the number 10 531 in the Fibonacci sequence in less than one second, or it can calculate the solution to an analytically insoluble equation by repeating the same operation 10000 times. Loops are the most important and useful programming structure we have.\n",
    "\n",
    "Here we will look at some basic examples to get you comfortable with how loops in Python works. Do all the exercises in the tabs."
   ]
  },
  {
   "cell_type": "markdown",
   "metadata": {},
   "source": [
    "`````{tabbed} Exercise 1\n",
    "Look at these three program lines. When it says even number = even number + 2, the program will calculate the right side of the equals sign first and put it into the left side afterwards.\n",
    "\n",
    "What is the value of the variable even after the three lines?\n",
    "\n",
    "````{code-block} python\n",
    "\n",
    "even_number = 0\n",
    "even_number = even_number + 2\n",
    "even_number = even_number + 2\n",
    "````\n",
    "\n",
    "````{admonition} Solution\n",
    "class:: tip, dropdown\n",
    "The value of the variable even_number is 4 after we run the program.\n",
    "````\n",
    "\n",
    "Repeating code like this can be tiresome. Enter the loops! Using a counter _i_ we can for example repeat this operation 5 times:\n",
    "\n",
    "````{code-block} python\n",
    "even_number = 0\n",
    "\n",
    "for i in range(5):\n",
    "    even_number = even_number + 2\n",
    "````\n",
    "\n",
    "This is called a *for-loop*, which is a counting-loop that iterates (goes through) numbers in an interval. The command *range(1000)* means that we create a variable that will go through an interval specified in parentheses. If we write range(5), the interval becomes [0, 1, 2, 3, 4], that is, from 0 to - but not including - 5. If we write range(2,6), the interval becomes [2, 3, 4, 5]. If we add another argument to the range function, we can specify the step: range(2,11,2) gives the numbers [2,4,6,8,10]. Each time the loop code is repeated, the variable *i*, which we call a \"count variable\", gets the next value in the interval. The loop is thus repeated five times in the code above. The indented code in the loop is repeated each time the loop runs.\n",
    "\n",
    "Try to make a loop that prints the square root of the variable *i* for every odd number of *i* in the interval [0,25]\n",
    "\n",
    "<iframe src=\"https://trinket.io/embed/python3/a44e64569a\" width=\"100%\" height=\"600\" frameborder=\"0\" marginwidth=\"0\" marginheight=\"0\" allowfullscreen></iframe>\n",
    "\n",
    "````{admonition} Solution\n",
    "class:: tip, dropdown\n",
    "```{code-block} python\n",
    "from numpy import sqrt \n",
    "\n",
    "for i in range(1,26,2):\n",
    "    print(sqrt(i))\n",
    "```\n",
    "````\n",
    "````\n",
    "\n",
    "`````{tabbed} Exercise 2\n",
    "Now we are going to make a program that adds together the first five even numbers. What kind of variables do you need? How do you solve this by using loops? Start by creating a pseudocode where you focus on the logic of problem solving.\n",
    "\n",
    "````{admonition} Solution\n",
    "class:: tip, dropdown\n",
    "The value of the variable even_number is 4 after we run the program.\n",
    "````\n",
    "\n",
    "`````\n"
   ]
  }
 ],
 "metadata": {
  "kernelspec": {
   "display_name": "Python 3",
   "language": "python",
   "name": "python3"
  },
  "language_info": {
   "codemirror_mode": {
    "name": "ipython",
    "version": 3
   },
   "file_extension": ".py",
   "mimetype": "text/x-python",
   "name": "python",
   "nbconvert_exporter": "python",
   "pygments_lexer": "ipython3",
   "version": "3.8.5"
  }
 },
 "nbformat": 4,
 "nbformat_minor": 4
}
