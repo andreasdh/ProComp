{
 "cells": [
  {
   "cell_type": "markdown",
   "metadata": {},
   "source": [
    "# Variables and arithmetic\n",
    "\n",
    "Variables are well known in mathematics. When we write _a_ = 2, _a_ is the variable name and 2 is the assigned value. This is also the case in programming; a variable is a quantity that can store a value in a program. The variable can be changed throughout the program.\n",
    "\n",
    "Variables are especially useful when we need to use the same value multiple times, or when we need to update a value during the program. A simple example is if we want to find ten numbers in a certain series of numbers. We can describe this as follows with a pseudocode:"
   ]
  },
  {
   "cell_type": "markdown",
   "metadata": {
    "tags": [
     "remove-input"
    ]
   },
   "source": [
    "number = 0\n",
    "repeat 10 times:\n",
    "    number = number + 3\n",
    "    show number on screen"
   ]
  },
  {
   "cell_type": "markdown",
   "metadata": {},
   "source": [
    "```{admonition} What is a pseudocode?\n",
    ":class: tip, dropdown\n",
    "A pseudocode is a description of an algorithm without using a specific programming language. Pseudocode can be written in many ways and can be described with words, pictures and symbols.\n",
    "```"
   ]
  },
  {
   "cell_type": "code",
   "execution_count": null,
   "metadata": {},
   "outputs": [],
   "source": []
  }
 ],
 "metadata": {
  "celltoolbar": "Edit Metadata",
  "kernelspec": {
   "display_name": "Python 3",
   "language": "python",
   "name": "python3"
  },
  "language_info": {
   "codemirror_mode": {
    "name": "ipython",
    "version": 3
   },
   "file_extension": ".py",
   "mimetype": "text/x-python",
   "name": "python",
   "nbconvert_exporter": "python",
   "pygments_lexer": "ipython3",
   "version": "3.8.5"
  }
 },
 "nbformat": 4,
 "nbformat_minor": 4
}
