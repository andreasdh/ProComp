{
 "cells": [
  {
   "cell_type": "markdown",
   "metadata": {},
   "source": [
    "# How to build the notebooks\n"
   ]
  },
  {
   "cell_type": "markdown",
   "metadata": {},
   "source": [
    "## Boxes\n",
    "\n",
    "```{admonition} Learning goals\n",
    ":class: note\n",
    "Used for learning goals.\n",
    "```\n",
    "\n",
    "```{admonition} Excercises\n",
    ":class: hint\n",
    "Used for excercises.\n",
    "```\n",
    "\n",
    "```{admonition} Remember\n",
    ":class: caution\n",
    "Used for highlighting important stuff.\n",
    "```\n",
    "\n",
    "```{admonition} Learning goals\n",
    ":class: danger\n",
    "Generally not used.\n",
    "```\n",
    "\n",
    "```{admonition} Error\n",
    ":class: error\n",
    "Generally not used.\n",
    "```"
   ]
  },
  {
   "cell_type": "markdown",
   "metadata": {},
   "source": [
    "This was created by the following code in Markdown:\n",
    "````\n",
    "```{admonition} Learning goals\n",
    ":class: note\n",
    "Used for learning goals.\n",
    "```\n",
    "\n",
    "```{admonition} Excercises\n",
    ":class: hint\n",
    "Used for excercises.\n",
    "```\n",
    "\n",
    "```{admonition} Remember\n",
    ":class: caution\n",
    "Used for highlighting important stuff.\n",
    "```\n",
    "\n",
    "```{admonition} Learning goals\n",
    ":class: danger\n",
    "Generally not used.\n",
    "```\n",
    "\n",
    "```{admonition} Error\n",
    ":class: error\n",
    "Generally not used.\n",
    "```\n",
    "````"
   ]
  },
  {
   "cell_type": "markdown",
   "metadata": {},
   "source": [
    "## Panels\n",
    "````{panels}\n",
    "Content of the left panel.\n",
    "\n",
    "{badge}`example-badge,badge-primary`\n",
    "\n",
    "---\n",
    "\n",
    "```{link-button} content/panels\n",
    ":text: Clickable right panel\n",
    ":type: ref\n",
    ":classes: stretched-link\n",
    "```\n",
    "\n",
    "````"
   ]
  },
  {
   "cell_type": "markdown",
   "metadata": {},
   "source": [
    "````{panels}\n",
    ":column: col-4\n",
    ":card: border-2\n",
    "Header A\n",
    "^^^\n",
    "Body A\n",
    "---\n",
    "Header B\n",
    "^^^\n",
    "Body B\n",
    "---\n",
    "Header C\n",
    "^^^\n",
    "Body C\n",
    "````"
   ]
  },
  {
   "cell_type": "markdown",
   "metadata": {},
   "source": [
    "## Dropdowns\n",
    "\n",
    ":::{admonition} Hint!\n",
    ":class: tip, dropdown\n",
    "This is mainly used for extra information and hints.\n",
    ":::"
   ]
  },
  {
   "cell_type": "markdown",
   "metadata": {},
   "source": [
    "## Tabs\n",
    "````{tabbed} c++\n",
    "\n",
    "```{code-block} c++\n",
    "\n",
    "int main(const int argc, const char **argv) {\n",
    "  return 0;\n",
    "}\n",
    "```\n",
    "````\n",
    "\n",
    "````{tabbed} python\n",
    "\n",
    "```{code-block} python\n",
    "\n",
    "def main():\n",
    "    return\n",
    "```\n",
    "````\n",
    "\n",
    "````{tabbed} java\n",
    "\n",
    "```{code-block} java\n",
    "\n",
    "class Main {\n",
    "    public static void main(String[] args) {\n",
    "    }\n",
    "}\n",
    "```\n",
    "````\n",
    "\n",
    "````{tabbed} julia\n",
    "\n",
    "```{code-block} julia\n",
    "\n",
    "function main()\n",
    "end\n",
    "```\n",
    "````\n",
    "\n",
    "````{tabbed} fortran\n",
    "\n",
    "```{code-block} fortran\n",
    "\n",
    "PROGRAM main\n",
    "END PROGRAM main\n",
    "```\n",
    "````"
   ]
  },
  {
   "cell_type": "markdown",
   "metadata": {},
   "source": [
    "## Definition lists\n",
    ":     for i in range(10):\n",
    "\n",
    "\n",
    ":     for i in range(10):\n",
    "          a = a + 1"
   ]
  },
  {
   "cell_type": "markdown",
   "metadata": {},
   "source": [
    "## Figures\n",
    "\n",
    "```{figure} ./path/to/figure.jpg\n",
    ":name: label\n",
    "\n",
    "caption\n",
    "```"
   ]
  },
  {
   "cell_type": "markdown",
   "metadata": {},
   "source": [
    "## Quotes\n",
    "\n",
    "```{epigraph}\n",
    "All quotes are quotable.\n",
    "\n",
    "-- Andreas Haraldsrud, 2021\n",
    "```"
   ]
  }
 ],
 "metadata": {
  "kernelspec": {
   "display_name": "Python 3",
   "language": "python",
   "name": "python3"
  },
  "language_info": {
   "codemirror_mode": {
    "name": "ipython",
    "version": 3
   },
   "file_extension": ".py",
   "mimetype": "text/x-python",
   "name": "python",
   "nbconvert_exporter": "python",
   "pygments_lexer": "ipython3",
   "version": "3.8.5"
  }
 },
 "nbformat": 4,
 "nbformat_minor": 4
}
