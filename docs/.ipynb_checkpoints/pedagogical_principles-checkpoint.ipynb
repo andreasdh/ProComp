{
 "cells": [
  {
   "cell_type": "markdown",
   "metadata": {},
   "source": [
    "# Pedagogical principles\n",
    "\n",
    "Programming can be many things. In scientific and mathematical programming the focus should be on the disciplines, not on the programming itself. Also, learning how to program  Therefore we have a set of pedagical principles that you should take into account when building content for this page:\n",
    "\n",
    "1). Easy does it: When learning a new skill, like programming, our working memory may easily be filled up. This prevents us to connect the dots and seeing the bigger picture. Therefore, use as few programming concepts as possible. This is far more important than making the code robust. Here are some examples: <br>\n",
    "-Avoid functions in the beginning if they are not strictly necessary. <br>\n",
    "-Avoid short-hand notations like a += 1. <br>\n",
    "-Try to avoid docstrings, try-except/assert and other features making the code more robust.  <br>\n",
    "2). Substitute the \"best\" code with the basics. Examples: <br>\n",
    "-If you can use if-else to handle errors, if error-handling is too important to skip, do that.<br>\n",
    "-Stick to the way they have learned to read files (eg. Pandas) or the way they are plotting (eg. without using plots as objects). Do not introduce new libraries or ways of doing things needlessly, but feel of course free to do so if it is absolutely needed.<br>\n",
    "3). Use good variable names and helpful comments (not too many, but not too few either). All variable names should be either self-explaining or accompanied by a short comment.\n",
    "4). Bring the programming, mathematics and science together. Examples:\n",
    "-Try to ofte write expression as they appear in mathematics or science: $v = v0 + a*t$ instead of $speed = initial_speed + acceleration*seconds$. Use comments to explain the nature and units of variables. <br>\n",
    "-Explaing the difference between ways they know how to solve things (eg. analytically) and ways they could be solved with programming (iteratively/numerically).<br>\n",
    "5). Tell a story. Write the code as a narrative with space, paragraphs and not too long \"sentences\". Tell your story over more lines than over few. Example:<br>\n",
    "```{code-block} python\n",
    "derivative = []\n",
    "for i in range(len(x)):\n",
    "    dy = y[i+1] - y[i]\n",
    "    dx = x[i+1] - x[i]\n",
    "    dydx = dy/dx\n",
    "    derivative.append(dydx)\n",
    "```\n",
    "instead of:\n",
    "```{code-block} python\n",
    "derivative = []\n",
    "for i in range(len(x)):\n",
    "    derivative.append((y[i+1] - y[i])/(x[i+1] - x[i]))\n",
    "```\n",
    "6). Keep in mind that this is a course in how to teach mathematics and science with programming, not how to be an expert in informatics. <br>\n",
    "7). Keep in mind that the users of these courses are experts in their fields, but maybe not in programming. Some might know a bit programming, some might know a lot. Make different approaches for different teachers.<br>\n",
    "8). Use varied approaches in exercises. It is a high level skill to \"make a program that...\". You can use the table below to guide you.<br>\n",
    "\n",
    "## Teaching methods\n",
    "There are many ways to teach programming. The most important thing is to take into account the goal of the teaching (learning goals) when choosing a method. If the point is to learn a programming structure, certain methods may be good, but if the point is to learn a concept in, for example, mathematics or chemistry better, other methods may be better. Here you get an overview of different methods that you can use when teaching programming.\n",
    "\n",
    "| Method | Short explanation |\n",
    "| --- | :--- |\n",
    "| Use of analogies and concretes |Some concepts such as variables and objects can be illustrated with something concrete. Analogies to loops and decisions are found in everyday life.|\n",
    "|Live programming | The teacher programs live in the classroom. Here one can e.g. ask questions along the way, ask the pupils/students to continue the code, and you may and enter (consciously and unconsciously) errors that you can troubleshoot together with your students.|\n",
    "|Programming together|Two students together. One writes code, another dictates what the person should write.|\n",
    "|Discuss what the program does|Give the students some code to interpret and predict the results of the code.|\n",
    "|Fill-ins|Code can be created with some lines that are missing, and that the students have to fill in, either live or as assignments. |\n",
    "| Programming puzzles (Parsons problems) | The program lines are given, but in the wrong order. The focus will be on problem solving, not syntax. Online puzzles can be used.|\n",
    "|Flow charts| Use flow charts to systematize conditionals and logic.|\n",
    "| Comparisons | Compare what two almost identical snippets of code do. Can be a focus on syntax or the scientific problem. |\n",
    "| Troubleshooting | Find the error in the code when the code is given. The error can be of an algorithmic (scientific) or syntactic nature. |\n",
    "| \"Alias\" | The game alias with important concepts such as variable, loop, parameter, function, conditional, etc. |\n",
    "| Pseudocode | Informal description of a computer program. Emphasize logic over syntax. Describe or design the pseudocode yourself|"
   ]
  },
  {
   "cell_type": "code",
   "execution_count": null,
   "metadata": {},
   "outputs": [],
   "source": []
  }
 ],
 "metadata": {
  "kernelspec": {
   "display_name": "Python 3",
   "language": "python",
   "name": "python3"
  },
  "language_info": {
   "codemirror_mode": {
    "name": "ipython",
    "version": 3
   },
   "file_extension": ".py",
   "mimetype": "text/x-python",
   "name": "python",
   "nbconvert_exporter": "python",
   "pygments_lexer": "ipython3",
   "version": "3.8.5"
  }
 },
 "nbformat": 4,
 "nbformat_minor": 4
}
